{
  "nbformat": 4,
  "nbformat_minor": 0,
  "metadata": {
    "colab": {
      "name": "GAN_Article.ipynb",
      "version": "0.3.2",
      "provenance": [],
      "collapsed_sections": []
    },
    "kernelspec": {
      "name": "python3",
      "display_name": "Python 3"
    },
    "accelerator": "GPU"
  },
  "cells": [
    {
      "cell_type": "markdown",
      "metadata": {
        "id": "mXSt1CdJ6X-b",
        "colab_type": "text"
      },
      "source": [
        "# Building a GAN in 8 simple Steps"
      ]
    },
    {
      "cell_type": "markdown",
      "metadata": {
        "id": "Rt82t1qi6qe8",
        "colab_type": "text"
      },
      "source": [
        "##STEP 1.  Importing Necessary Modules\n"
      ]
    },
    {
      "cell_type": "code",
      "metadata": {
        "id": "RBOf6szv6TAp",
        "colab_type": "code",
        "colab": {
          "base_uri": "https://localhost:8080/",
          "height": 34
        },
        "outputId": "e81adaec-c12a-4f52-cfce-bafd245590f4"
      },
      "source": [
        "import numpy as np\n",
        "import matplotlib.pyplot as plt\n",
        "%matplotlib inline\n",
        "import keras\n",
        "from keras.layers import Dense, Dropout, Input, BatchNormalization\n",
        "from keras.models import Model,Sequential\n",
        "from keras.datasets import mnist\n",
        "from tqdm import tqdm\n",
        "from keras.layers.advanced_activations import LeakyReLU"
      ],
      "execution_count": 1,
      "outputs": [
        {
          "output_type": "stream",
          "text": [
            "Using TensorFlow backend.\n"
          ],
          "name": "stderr"
        }
      ]
    },
    {
      "cell_type": "markdown",
      "metadata": {
        "id": "k79wze966yaM",
        "colab_type": "text"
      },
      "source": [
        "##STEP 2. Building A Simple Generator Network\n"
      ]
    },
    {
      "cell_type": "code",
      "metadata": {
        "id": "MnSc2_Tn6xU7",
        "colab_type": "code",
        "colab": {}
      },
      "source": [
        "\n",
        "def build_generator():\n",
        "    #Initializing a neural network\n",
        "    generator = Sequential()\n",
        "    \n",
        "    #Adding an Input layer to the network\n",
        "    generator.add(Dense(units=256,input_dim=100))    \n",
        "\n",
        "    #Activating the layer with LeakyReLU activation function\n",
        "    generator.add(LeakyReLU(0.2))\n",
        "\n",
        "    #Applying Batch Normalization \n",
        "    generator.add(BatchNormalization(momentum=0.8))\n",
        "\n",
        "    #Adding a second layer\t\n",
        "    generator.add(Dense(units=512))\n",
        "    \n",
        "    #Adding a third layer\t\n",
        "    generator.add(Dense(units=1024))\n",
        "    generator.add(LeakyReLU(0.2))\n",
        "    \n",
        "    #The output layer with 784(28x28) nodes\n",
        "    generator.add(Dense(units=784, activation='tanh'))\n",
        "    \n",
        "    #Compiling the Generator Network with loss and optimizer functions\n",
        "    generator.compile(loss='binary_crossentropy', optimizer= keras.optimizers.adam(lr=0.0002, beta_1=0.5))\n",
        "    \n",
        "    return generator"
      ],
      "execution_count": 0,
      "outputs": []
    },
    {
      "cell_type": "markdown",
      "metadata": {
        "id": "F0QVshyu63wb",
        "colab_type": "text"
      },
      "source": [
        "##STEP 3. Building A Simple Discriminator Network"
      ]
    },
    {
      "cell_type": "code",
      "metadata": {
        "id": "0MubPU8962Xj",
        "colab_type": "code",
        "colab": {}
      },
      "source": [
        "\n",
        "def build_discriminator():\n",
        "    #Initializing a neural network\n",
        "    discriminator=Sequential()\n",
        "    \n",
        "    #Adding an Input layer to the network\n",
        "    discriminator.add(Dense(units=1024, input_dim=784))\n",
        "    \n",
        "    #Activating the layer with LeakyReLU activation function\n",
        "    discriminator.add(LeakyReLU(0.2))\n",
        "    \n",
        "    #Adding a dropout layer to reduce overfitting\n",
        "    discriminator.add(Dropout(0.2))\n",
        "       \n",
        "    #Adding a second layer\n",
        "    discriminator.add(Dense(units=512))\n",
        "    discriminator.add(LeakyReLU(0.2))\n",
        "    discriminator.add(Dropout(0.3))\n",
        "       \n",
        "    #Adding a third layer\t \n",
        "    discriminator.add(Dense(units=256))\n",
        "    discriminator.add(LeakyReLU(0.2))\n",
        "    discriminator.add(Dropout(0.3))\n",
        "\n",
        "    #Adding a forth layer\n",
        "    discriminator.add(Dense(units=128))\n",
        "    discriminator.add(LeakyReLU(0.2))\n",
        "    \n",
        "    #Adding the output layer with sigmoid activation\n",
        "    discriminator.add(Dense(units=1, activation='sigmoid'))\n",
        "    \n",
        "    #Compiling the Discriminator Network with loss and optimizer functions\n",
        "    discriminator.compile(loss='binary_crossentropy', optimizer = keras.optimizers.adam(lr=0.0002, beta_1=0.5))\n",
        "    \n",
        "    return discriminator"
      ],
      "execution_count": 0,
      "outputs": []
    },
    {
      "cell_type": "markdown",
      "metadata": {
        "id": "2CuGNrkNBTr5",
        "colab_type": "text"
      },
      "source": [
        "\n",
        "*  **The above 2 code blocks simply define two different neural networks. The only major difference between the generator and the discriminator network are the inputs and outputs.**\n",
        "\n",
        "*  **The generator Network takes random noise as input and tries to recreate the images  from th training set using while the discriminator tries to distinguish the images generated by the generator Network from the actual training Set images.**\n",
        "\n",
        "*  **The discriminator is a binary classifier while the Generator generate an output similar to the actual images.**\n",
        "\n",
        "\n",
        "\n",
        "\n",
        "\n",
        "\n"
      ]
    },
    {
      "cell_type": "markdown",
      "metadata": {
        "id": "Be4Al-1O7AkT",
        "colab_type": "text"
      },
      "source": [
        "##STEP 4. Building A GAN Network\n"
      ]
    },
    {
      "cell_type": "code",
      "metadata": {
        "id": "1Lv9oqNI6_Tc",
        "colab_type": "code",
        "colab": {}
      },
      "source": [
        "\n",
        "#Stacking The Generator And Discriminator Networks To Form A GAN\n",
        "\n",
        "def gan_net(generator, discriminator):\n",
        "  \n",
        "    #Setting the trainable parameter of discriminator to False\n",
        "    discriminator.trainable=False\n",
        "    \n",
        "    #Instantiates a Keras tensor of shape 100 (Noise shape)\n",
        "    inp = Input(shape=(100,))\n",
        "    \n",
        "    #Feeds the input noise to the generator and stores the output in X\n",
        "    X = generator(inp)\n",
        "    \n",
        "    #Feeds the output from generator(X) to the discriminator and stores the result in out\n",
        "    out= discriminator(X)\n",
        "    \n",
        "    #Creates a model include all layers required in the computation of out given inp.\n",
        "    gan= Model(inputs=inp, outputs=out)\n",
        "    \n",
        "    #Compiling the GAN Network\n",
        "    gan.compile(loss='binary_crossentropy', optimizer = 'adam')\n",
        "    \n",
        "    return gan"
      ],
      "execution_count": 0,
      "outputs": []
    },
    {
      "cell_type": "markdown",
      "metadata": {
        "id": "MhaGnbXqQMOA",
        "colab_type": "text"
      },
      "source": [
        "*  **The above method when invoked creates a GAN by stacking the generator and discriminator networks.**\n",
        "\n",
        "\n",
        "*  **The trainable parameter of the descriminator network when set to false freezes the weights in the discriminator network while the generator network is trained. This prevents the discriminator network from being updated whilethe generator generates new images from noise.**\n",
        "\n",
        "\n",
        "*  **The input shaoe to the GAN network is the shape of the noise. The noise is fed to generator and its output is fed to the discriminator which calssifies the image as original or generated.**\n",
        "\n"
      ]
    },
    {
      "cell_type": "markdown",
      "metadata": {
        "id": "TzrZet7l7Koz",
        "colab_type": "text"
      },
      "source": [
        "##STEP 5. Plotting The Generated Images\n"
      ]
    },
    {
      "cell_type": "code",
      "metadata": {
        "id": "H7Dlf6ON7I3u",
        "colab_type": "code",
        "colab": {}
      },
      "source": [
        "#Method to plot the images\n",
        "def plot_images(epoch, generator, dim = (10,10), figsize=(10,10)):     \n",
        "    noise= np.random.normal(loc=0, scale=1, size=[100, 100]) \n",
        "    generated_images = generator.predict(noise)\n",
        "    generated_images = generated_images.reshape(100,28,28)\n",
        "    \n",
        "    plt.figure(figsize=figsize)\n",
        "    for i in range(generated_images.shape[0]):\n",
        "        plt.subplot(dim[0], dim[1], i+1)\n",
        "        plt.imshow(generated_images[i],cmap='gray', interpolation='nearest')\n",
        "        plt.axis('off')\n",
        "    plt.tight_layout()"
      ],
      "execution_count": 0,
      "outputs": []
    },
    {
      "cell_type": "markdown",
      "metadata": {
        "id": "RRv-AcjJS7oX",
        "colab_type": "text"
      },
      "source": [
        "**The above method generates plots for the images created by the generator from the normally distributed noise input.** \n",
        "\n",
        "\n",
        "\n"
      ]
    },
    {
      "cell_type": "markdown",
      "metadata": {
        "id": "jttWQDlJ7Q6j",
        "colab_type": "text"
      },
      "source": [
        "##STEP 6. Method For Training\n"
      ]
    },
    {
      "cell_type": "code",
      "metadata": {
        "id": "SeJVugKT7OpD",
        "colab_type": "code",
        "colab": {}
      },
      "source": [
        "\n",
        "#Traing method with training set, default epoch and default batch_size as arguments.\n",
        "\n",
        "def train(X_train, epochs=5, batch_size=128):\n",
        "    \n",
        "    \n",
        "    #Initializing the GAN \n",
        "    generator= build_generator()\n",
        "    discriminator= build_discriminator()\n",
        "    gan = gan_net(generator,discriminator)\n",
        "    \n",
        "    \n",
        "    # Training the model for specified epochs\n",
        "    \n",
        "    for e in range(1,epochs+1 ):\n",
        "        print(\"###### @ Epoch \", e)\n",
        "        \n",
        "        for _ in tqdm(range(batch_size)):\n",
        "          \n",
        "            #Random noise with size batch_sizex100\n",
        "            noise= np.random.normal(0,1, [batch_size, 100])\n",
        "            \n",
        "            #Generating images from noise\n",
        "            generated_images = generator.predict(noise)\n",
        "            \n",
        "            #taking random images from the training set \n",
        "            image_batch =X_train[np.random.randint(low=0,high=X_train.shape[0],size=batch_size)]\n",
        "            \n",
        "            #Creating a new training set with real and fake images \n",
        "            X= np.concatenate([image_batch, generated_images])\n",
        "            \n",
        "            # Labels for generated and real data\n",
        "            y_dis=np.zeros(2*batch_size)  \n",
        "            y_dis[:batch_size]=1.0 # label for real images\n",
        "            \n",
        "            #Training the discriminator with real and generated images\n",
        "            discriminator.trainable=True\n",
        "            discriminator.train_on_batch(X, y_dis)\n",
        "            \n",
        "            #Labelling the generated images a sreal images(1) to trick the discriminator\n",
        "            noise= np.random.normal(0,1, [batch_size, 100])\n",
        "            y_gen = np.ones(batch_size)\n",
        "            \n",
        "            #Freezing the weights of the discriminator while training generator\n",
        "            discriminator.trainable=False\n",
        "            \n",
        "            #Training the gan network\n",
        "            gan.train_on_batch(noise, y_gen)\n",
        "        \n",
        "        #Plotting the images for every 10 epochs\n",
        "        if e == 1 or e % 10 == 0:\n",
        "          plot_images(e,generator,dim = (10,10) , figsize=(15,15))"
      ],
      "execution_count": 0,
      "outputs": []
    },
    {
      "cell_type": "markdown",
      "metadata": {
        "id": "RvQo31JB7VbV",
        "colab_type": "text"
      },
      "source": [
        "##STEP 7.  Loading And Processing MNIST Data\n"
      ]
    },
    {
      "cell_type": "code",
      "metadata": {
        "id": "a0mH5fw57Umc",
        "colab_type": "code",
        "colab": {
          "base_uri": "https://localhost:8080/",
          "height": 34
        },
        "outputId": "0059dd8d-beeb-48a1-cf2c-54aa8f0f697f"
      },
      "source": [
        "#Unpacking the training data from mnist data dataset\n",
        "(X_train, _), (_, _) = mnist.load_data()\n",
        "\n",
        "#Converting to float type and normalizing the data\n",
        "X_train = (X_train.astype(np.float32) - 127.5)/127.5\n",
        "\n",
        "# convert shape of X_train from (60000, 28, 28) to (60000, 784) - 784 columns per row\n",
        "X_train = X_train.reshape(60000, 784)\n"
      ],
      "execution_count": 7,
      "outputs": [
        {
          "output_type": "stream",
          "text": [
            "(60000, 784)\n"
          ],
          "name": "stdout"
        }
      ]
    },
    {
      "cell_type": "markdown",
      "metadata": {
        "id": "phFIruBT7aEr",
        "colab_type": "text"
      },
      "source": [
        "##STEP 8. Training The GAN"
      ]
    },
    {
      "cell_type": "code",
      "metadata": {
        "id": "rMTcbMB27ZY8",
        "colab_type": "code",
        "colab": {}
      },
      "source": [
        "train(X_train,epochs = 5, batch_size = 128)"
      ],
      "execution_count": 0,
      "outputs": []
    },
    {
      "cell_type": "markdown",
      "metadata": {
        "id": "cslOLh1Ki4dj",
        "colab_type": "text"
      },
      "source": [
        "The code used in this article is inspired by Renu Khandelwal’s [Generative Adversarial Network(GAN) using Keras](https://https://medium.com/datadriveninvestor/generative-adversarial-network-gan-using-keras-ce1c05cfdfd3)."
      ]
    }
  ]
}
