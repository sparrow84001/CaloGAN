{
 "cells": [
  {
   "cell_type": "code",
   "execution_count": 1,
   "metadata": {},
   "outputs": [],
   "source": [
    "import pickle\n",
    "import time\n",
    "import os\n",
    "from sys import platform\n",
    "\n",
    "import numpy as np\n",
    "import matplotlib.pyplot as plt\n",
    "from geant3_parser import Geant3DataFile\n",
    "from geant3_parser import build_train_set\n"
   ]
  },
  {
   "cell_type": "code",
   "execution_count": 2,
   "metadata": {},
   "outputs": [
    {
     "name": "stdout",
     "output_type": "stream",
     "text": [
      "Time open 2.240962266921997\n",
      "Time split 0.48989272117614746\n",
      "Start preparing events...\n",
      "Total events prepare time = 2.125920057296753\n",
      "max hit value = 0.7597081518112012\n",
      "max e = 5.5\n"
     ]
    }
   ],
   "source": [
    "file_name = os.path.join('data', 'shower_geant3_new.dat')\n",
    "\n",
    "\n",
    "# file_name = 'sample_data.txt'\n",
    "data_file = Geant3DataFile(file_name, skip_lines=3)\n",
    "\n",
    "# split into input (X) and output (y) variables\n",
    "parse_start = time.time()\n",
    "print(f\"Start preparing events...\")\n",
    "\n",
    "add_real_xy = False\n",
    "inputs, true_e, sum_e = build_train_set(data_file, 50000, add_real_xy=add_real_xy, normalize=True)\n",
    "parse_end = time.time()\n",
    "\n",
    "print(f\"Total events prepare time = {parse_end - parse_start}\")\n",
    "print(f\"max hit value = {np.max(inputs)}\")\n",
    "print(f\"max e = {np.max(true_e)}\")"
   ]
  },
  {
   "cell_type": "code",
   "execution_count": 3,
   "metadata": {},
   "outputs": [
    {
     "name": "stderr",
     "output_type": "stream",
     "text": [
      "2022-06-18 15:57:34.464357: I tensorflow/stream_executor/platform/default/dso_loader.cc:53] Successfully opened dynamic library libcudart.so.11.0\n"
     ]
    }
   ],
   "source": [
    "from keras.models import Sequential\n",
    "from keras.layers import Dense"
   ]
  },
  {
   "cell_type": "code",
   "execution_count": 4,
   "metadata": {},
   "outputs": [
    {
     "name": "stderr",
     "output_type": "stream",
     "text": [
      "2022-06-18 15:59:31.393374: I tensorflow/stream_executor/platform/default/dso_loader.cc:53] Successfully opened dynamic library libcuda.so.1\n",
      "2022-06-18 15:59:32.494773: I tensorflow/stream_executor/cuda/cuda_gpu_executor.cc:923] could not open file to read NUMA node: /sys/bus/pci/devices/0000:01:00.0/numa_node\n",
      "Your kernel may have been built without NUMA support.\n",
      "2022-06-18 15:59:32.494879: I tensorflow/core/common_runtime/gpu/gpu_device.cc:1733] Found device 0 with properties: \n",
      "pciBusID: 0000:01:00.0 name: Quadro P1000 computeCapability: 6.1\n",
      "coreClock: 1.5185GHz coreCount: 4 deviceMemorySize: 4.00GiB deviceMemoryBandwidth: 89.53GiB/s\n",
      "2022-06-18 15:59:32.495004: I tensorflow/stream_executor/platform/default/dso_loader.cc:53] Successfully opened dynamic library libcudart.so.11.0\n",
      "2022-06-18 15:59:32.534876: I tensorflow/stream_executor/platform/default/dso_loader.cc:53] Successfully opened dynamic library libcublas.so.11\n",
      "2022-06-18 15:59:32.535085: I tensorflow/stream_executor/platform/default/dso_loader.cc:53] Successfully opened dynamic library libcublasLt.so.11\n",
      "2022-06-18 15:59:32.556365: I tensorflow/stream_executor/platform/default/dso_loader.cc:53] Successfully opened dynamic library libcufft.so.10\n",
      "2022-06-18 15:59:32.564283: I tensorflow/stream_executor/platform/default/dso_loader.cc:53] Successfully opened dynamic library libcurand.so.10\n",
      "2022-06-18 15:59:32.573306: I tensorflow/stream_executor/platform/default/dso_loader.cc:53] Successfully opened dynamic library libcusolver.so.11\n",
      "2022-06-18 15:59:32.581420: I tensorflow/stream_executor/platform/default/dso_loader.cc:53] Successfully opened dynamic library libcusparse.so.11\n",
      "2022-06-18 15:59:32.583796: I tensorflow/stream_executor/platform/default/dso_loader.cc:53] Successfully opened dynamic library libcudnn.so.8\n",
      "2022-06-18 15:59:32.585049: I tensorflow/stream_executor/cuda/cuda_gpu_executor.cc:923] could not open file to read NUMA node: /sys/bus/pci/devices/0000:01:00.0/numa_node\n",
      "Your kernel may have been built without NUMA support.\n",
      "2022-06-18 15:59:32.587416: I tensorflow/stream_executor/cuda/cuda_gpu_executor.cc:923] could not open file to read NUMA node: /sys/bus/pci/devices/0000:01:00.0/numa_node\n",
      "Your kernel may have been built without NUMA support.\n",
      "2022-06-18 15:59:32.588289: I tensorflow/core/common_runtime/gpu/gpu_device.cc:1871] Adding visible gpu devices: 0\n",
      "2022-06-18 15:59:32.589390: I tensorflow/core/platform/cpu_feature_guard.cc:142] This TensorFlow binary is optimized with oneAPI Deep Neural Network Library (oneDNN) to use the following CPU instructions in performance-critical operations:  AVX2 FMA\n",
      "To enable them in other operations, rebuild TensorFlow with the appropriate compiler flags.\n",
      "2022-06-18 15:59:32.594579: I tensorflow/stream_executor/cuda/cuda_gpu_executor.cc:923] could not open file to read NUMA node: /sys/bus/pci/devices/0000:01:00.0/numa_node\n",
      "Your kernel may have been built without NUMA support.\n",
      "2022-06-18 15:59:32.594633: I tensorflow/core/common_runtime/gpu/gpu_device.cc:1733] Found device 0 with properties: \n",
      "pciBusID: 0000:01:00.0 name: Quadro P1000 computeCapability: 6.1\n",
      "coreClock: 1.5185GHz coreCount: 4 deviceMemorySize: 4.00GiB deviceMemoryBandwidth: 89.53GiB/s\n",
      "2022-06-18 15:59:32.595557: I tensorflow/stream_executor/cuda/cuda_gpu_executor.cc:923] could not open file to read NUMA node: /sys/bus/pci/devices/0000:01:00.0/numa_node\n",
      "Your kernel may have been built without NUMA support.\n",
      "2022-06-18 15:59:32.596406: I tensorflow/stream_executor/cuda/cuda_gpu_executor.cc:923] could not open file to read NUMA node: /sys/bus/pci/devices/0000:01:00.0/numa_node\n",
      "Your kernel may have been built without NUMA support.\n",
      "2022-06-18 15:59:32.596438: I tensorflow/core/common_runtime/gpu/gpu_device.cc:1871] Adding visible gpu devices: 0\n",
      "2022-06-18 15:59:32.597214: I tensorflow/stream_executor/platform/default/dso_loader.cc:53] Successfully opened dynamic library libcudart.so.11.0\n",
      "2022-06-18 15:59:35.708553: I tensorflow/core/common_runtime/gpu/gpu_device.cc:1258] Device interconnect StreamExecutor with strength 1 edge matrix:\n",
      "2022-06-18 15:59:35.708609: I tensorflow/core/common_runtime/gpu/gpu_device.cc:1264]      0 \n",
      "2022-06-18 15:59:35.708626: I tensorflow/core/common_runtime/gpu/gpu_device.cc:1277] 0:   N \n",
      "2022-06-18 15:59:35.712031: I tensorflow/stream_executor/cuda/cuda_gpu_executor.cc:923] could not open file to read NUMA node: /sys/bus/pci/devices/0000:01:00.0/numa_node\n",
      "Your kernel may have been built without NUMA support.\n",
      "2022-06-18 15:59:35.713371: I tensorflow/stream_executor/cuda/cuda_gpu_executor.cc:923] could not open file to read NUMA node: /sys/bus/pci/devices/0000:01:00.0/numa_node\n",
      "Your kernel may have been built without NUMA support.\n",
      "2022-06-18 15:59:35.713417: I tensorflow/core/common_runtime/gpu/gpu_device.cc:1501] Could not identify NUMA node of platform GPU id 0, defaulting to 0.  Your kernel may not have been built with NUMA support.\n",
      "2022-06-18 15:59:35.714652: I tensorflow/stream_executor/cuda/cuda_gpu_executor.cc:923] could not open file to read NUMA node: /sys/bus/pci/devices/0000:01:00.0/numa_node\n",
      "Your kernel may have been built without NUMA support.\n",
      "2022-06-18 15:59:35.714829: I tensorflow/core/common_runtime/gpu/gpu_device.cc:1418] Created TensorFlow device (/job:localhost/replica:0/task:0/device:GPU:0 with 2763 MB memory) -> physical GPU (device: 0, name: Quadro P1000, pci bus id: 0000:01:00.0, compute capability: 6.1)\n"
     ]
    }
   ],
   "source": [
    "model = Sequential()\n",
    "\n",
    "input_dims = 123\n",
    "middle_layer_size = 40\n",
    "hidden_layers_num = 3\n",
    "neuron_type = 'LeakyReLU'\n",
    "\n",
    "# go from 20 to 123 in 5 steps (or from 123 to 20)\n",
    "\n",
    "delta_dim = int((input_dims - middle_layer_size) / hidden_layers_num)\n",
    "\n",
    "model.add(Dense(input_dims, input_dim=123, activation=neuron_type))\n",
    "\n",
    "for i in range(1, hidden_layers_num):\n",
    "    neurons_num =  input_dims - i*delta_dim\n",
    "    model.add(Dense(neurons_num, activation=neuron_type))\n",
    "\n",
    "for i in range(hidden_layers_num):\n",
    "    neurons_num =  middle_layer_size + i*delta_dim\n",
    "    model.add(Dense(neurons_num, activation=neuron_type))\n",
    "\n",
    "model.add(Dense(input_dims, activation='tanh'))"
   ]
  },
  {
   "cell_type": "code",
   "execution_count": 5,
   "metadata": {},
   "outputs": [
    {
     "name": "stderr",
     "output_type": "stream",
     "text": [
      "2022-06-18 15:59:55.913153: I tensorflow/compiler/mlir/mlir_graph_optimization_pass.cc:176] None of the MLIR Optimization Passes are enabled (registered 2)\n",
      "2022-06-18 15:59:55.920344: I tensorflow/core/platform/profile_utils/cpu_utils.cc:114] CPU Frequency: 2904005000 Hz\n"
     ]
    },
    {
     "name": "stdout",
     "output_type": "stream",
     "text": [
      "Epoch 1/10\n"
     ]
    },
    {
     "name": "stderr",
     "output_type": "stream",
     "text": [
      "2022-06-18 16:00:11.638503: I tensorflow/stream_executor/platform/default/dso_loader.cc:53] Successfully opened dynamic library libcublas.so.11\n"
     ]
    },
    {
     "name": "stdout",
     "output_type": "stream",
     "text": [
      "   4/1485 [..............................] - ETA: 29s - loss: 0.4250 - acc: 0.1211 - mse: 0.0154 - mae: 0.0662    "
     ]
    },
    {
     "name": "stderr",
     "output_type": "stream",
     "text": [
      "2022-06-18 16:00:13.399001: I tensorflow/stream_executor/platform/default/dso_loader.cc:53] Successfully opened dynamic library libcublasLt.so.11\n"
     ]
    },
    {
     "name": "stdout",
     "output_type": "stream",
     "text": [
      "1485/1485 [==============================] - 39s 15ms/step - loss: 0.2028 - acc: 0.9356 - mse: 0.0211 - mae: 0.1155 - val_loss: 0.1556 - val_acc: 0.9792 - val_mse: 0.0111 - val_mae: 0.0896\n",
      "Epoch 2/10\n",
      "1485/1485 [==============================] - 23s 15ms/step - loss: 0.1544 - acc: 0.9776 - mse: 0.0135 - mae: 0.0969 - val_loss: 0.1512 - val_acc: 0.9792 - val_mse: 0.0189 - val_mae: 0.1171\n",
      "Epoch 3/10\n",
      "1485/1485 [==============================] - 24s 16ms/step - loss: 0.1509 - acc: 0.9770 - mse: 0.0158 - mae: 0.1065 - val_loss: 0.1423 - val_acc: 0.9792 - val_mse: 0.0104 - val_mae: 0.0864\n",
      "Epoch 4/10\n",
      "1485/1485 [==============================] - 24s 16ms/step - loss: 0.1407 - acc: 0.9776 - mse: 0.0113 - mae: 0.0896 - val_loss: 0.1396 - val_acc: 0.9792 - val_mse: 0.0116 - val_mae: 0.0908\n",
      "Epoch 5/10\n",
      "1485/1485 [==============================] - 23s 15ms/step - loss: 0.1401 - acc: 0.9787 - mse: 0.0127 - mae: 0.0948 - val_loss: 0.1402 - val_acc: 0.9788 - val_mse: 0.0101 - val_mae: 0.0856\n",
      "Epoch 6/10\n",
      "1485/1485 [==============================] - 22s 15ms/step - loss: 0.1409 - acc: 0.9744 - mse: 0.0117 - mae: 0.0918 - val_loss: 0.1403 - val_acc: 0.9792 - val_mse: 0.0145 - val_mae: 0.1047\n",
      "Epoch 7/10\n",
      "1485/1485 [==============================] - 23s 15ms/step - loss: 0.1388 - acc: 0.9775 - mse: 0.0140 - mae: 0.1022 - val_loss: 0.1374 - val_acc: 0.9792 - val_mse: 0.0145 - val_mae: 0.1026\n",
      "Epoch 8/10\n",
      "1485/1485 [==============================] - 22s 15ms/step - loss: 0.1381 - acc: 0.9766 - mse: 0.0155 - mae: 0.1062 - val_loss: 0.1373 - val_acc: 0.9784 - val_mse: 0.0155 - val_mae: 0.1069\n",
      "Epoch 9/10\n",
      "1485/1485 [==============================] - 23s 16ms/step - loss: 0.1386 - acc: 0.9756 - mse: 0.0179 - mae: 0.1150 - val_loss: 0.1384 - val_acc: 0.9788 - val_mse: 0.0177 - val_mae: 0.1154\n",
      "Epoch 10/10\n",
      "1485/1485 [==============================] - 24s 16ms/step - loss: 0.1383 - acc: 0.9754 - mse: 0.0172 - mae: 0.1127 - val_loss: 0.1372 - val_acc: 0.9792 - val_mse: 0.0140 - val_mae: 0.1036\n"
     ]
    },
    {
     "name": "stderr",
     "output_type": "stream",
     "text": [
      "2022-06-18 16:04:04.649118: W tensorflow/python/util/util.cc:348] Sets are not currently considered sequences, but this may change in the future, so consider avoiding using them.\n",
      "WARNING:absl:Found untraced functions such as leaky_re_lu_layer_call_and_return_conditional_losses, leaky_re_lu_layer_call_fn, leaky_re_lu_1_layer_call_and_return_conditional_losses, leaky_re_lu_1_layer_call_fn, leaky_re_lu_2_layer_call_and_return_conditional_losses while saving (showing 5 of 30). These functions will not be directly callable after loading.\n"
     ]
    },
    {
     "name": "stdout",
     "output_type": "stream",
     "text": [
      "INFO:tensorflow:Assets written to: g3_autoencoder_no_xy.hd5/assets\n"
     ]
    },
    {
     "name": "stderr",
     "output_type": "stream",
     "text": [
      "INFO:tensorflow:Assets written to: g3_autoencoder_no_xy.hd5/assets\n"
     ]
    }
   ],
   "source": [
    "model.compile(loss='binary_crossentropy', optimizer='adam', metrics=['acc', 'mse', 'mae'])\n",
    "# model.compile(loss='binary_crossentropy', optimizer='nadam', metrics=['acc', 'mse', 'mae'])\n",
    "\n",
    "# fit the keras model on the dataset\n",
    "history = model.fit(inputs, inputs, validation_split=0.05, epochs=10, batch_size=32, verbose=1)\n",
    "\n",
    "# Save everything\n",
    "name = \"g3_autoencoder_with_xy\" if add_real_xy else \"g3_autoencoder_no_xy\"\n",
    "\n",
    "# Saving history\n",
    "with open(name + \"-history.pickle\", 'wb') as file_pi:\n",
    "    pickle.dump(history.history, file_pi)\n",
    "\n",
    "# Saving the model\n",
    "model.save(name + \".hd5\")"
   ]
  },
  {
   "cell_type": "code",
   "execution_count": 6,
   "metadata": {},
   "outputs": [
    {
     "data": {
      "text/plain": [
       "[<matplotlib.lines.Line2D at 0x7f39251afb20>]"
      ]
     },
     "execution_count": 6,
     "metadata": {},
     "output_type": "execute_result"
    },
    {
     "data": {
      "image/png": "[encoded data removed]",
      "text/plain": [
       "<Figure size 432x288 with 1 Axes>"
      ]
     },
     "metadata": {
      "needs_background": "light"
     },
     "output_type": "display_data"
    }
   ],
   "source": [
    "plt.plot(history.history['loss'])"
   ]
  },
  {
   "cell_type": "code",
   "execution_count": 7,
   "metadata": {},
   "outputs": [
    {
     "data": {
      "text/plain": [
       "[<matplotlib.lines.Line2D at 0x7f39249cdf40>]"
      ]
     },
     "execution_count": 7,
     "metadata": {},
     "output_type": "execute_result"
    },
    {
     "data": {
      "image/png": "[encoded data removed]",
      "text/plain": [
       "<Figure size 432x288 with 1 Axes>"
      ]
     },
     "metadata": {
      "needs_background": "light"
     },
     "output_type": "display_data"
    }
   ],
   "source": [
    "plt.plot(history.history['acc'])"
   ]
  },
  {
   "cell_type": "code",
   "execution_count": 8,
   "metadata": {},
   "outputs": [
    {
     "data": {
      "text/plain": [
       "[<matplotlib.lines.Line2D at 0x7f39260d9640>]"
      ]
     },
     "execution_count": 8,
     "metadata": {},
     "output_type": "execute_result"
    },
    {
     "data": {
      "image/png": "[encoded data removed]",
      "text/plain": [
       "<Figure size 432x288 with 1 Axes>"
      ]
     },
     "metadata": {
      "needs_background": "light"
     },
     "output_type": "display_data"
    }
   ],
   "source": [
    "plt.plot(history.history['mse'])"
   ]
  },
  {
   "cell_type": "code",
   "execution_count": 9,
   "metadata": {},
   "outputs": [
    {
     "data": {
      "text/plain": [
       "[<matplotlib.lines.Line2D at 0x7f39251024f0>]"
      ]
     },
     "execution_count": 9,
     "metadata": {},
     "output_type": "execute_result"
    },
    {
     "data": {
      "image/png": "[encoded data removed]",
      "text/plain": [
       "<Figure size 432x288 with 1 Axes>"
      ]
     },
     "metadata": {
      "needs_background": "light"
     },
     "output_type": "display_data"
    }
   ],
   "source": [
    "plt.plot(history.history['mae'])"
   ]
  },
  {
   "cell_type": "code",
   "execution_count": null,
   "metadata": {},
   "outputs": [],
   "source": []
  }
 ],
 "metadata": {
  "interpreter": {
   "hash": "e792f99ca924ac5da9af932bc557d69820b5853464ee68b1079b8b9e6589c389"
  },
  "kernelspec": {
   "display_name": "Python 3.9.12 ('dl')",
   "language": "python",
   "name": "python3"
  },
  "language_info": {
   "codemirror_mode": {
    "name": "ipython",
    "version": 3
   },
   "file_extension": ".py",
   "mimetype": "text/x-python",
   "name": "python",
   "nbconvert_exporter": "python",
   "pygments_lexer": "ipython3",
   "version": "3.9.12"
  },
  "orig_nbformat": 4
 },
 "nbformat": 4,
 "nbformat_minor": 2
}
