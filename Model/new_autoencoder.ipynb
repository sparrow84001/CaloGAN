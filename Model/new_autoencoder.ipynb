{
 "cells": [
  {
   "cell_type": "code",
   "execution_count": 1,
   "metadata": {},
   "outputs": [],
   "source": [
    "import pickle\n",
    "import time\n",
    "import os\n",
    "from sys import platform\n",
    "import numpy as np\n",
    "import matplotlib.pyplot as plt\n",
    "from geant3_parser import Geant3DataFile\n",
    "from geant3_parser import build_train_set\n"
   ]
  },
  {
   "cell_type": "code",
   "execution_count": 2,
   "metadata": {},
   "outputs": [
    {
     "name": "stdout",
     "output_type": "stream",
     "text": [
      "Time open 1.9698131084442139\n",
      "Time split 0.3503389358520508\n"
     ]
    }
   ],
   "source": [
    "file_name = os.path.join('data', 'shower_geant3_new.dat')\n",
    "data_file=Geant3DataFile(file_name,skip_lines=3)\n",
    "input,true_e,sum_e=build_train_set(data_file,50000,add_real_xy=False,normalize=True)"
   ]
  },
  {
   "cell_type": "code",
   "execution_count": 3,
   "metadata": {},
   "outputs": [
    {
     "name": "stderr",
     "output_type": "stream",
     "text": [
      "2022-06-19 17:53:25.804932: I tensorflow/stream_executor/platform/default/dso_loader.cc:53] Successfully opened dynamic library libcudart.so.11.0\n"
     ]
    }
   ],
   "source": [
    "from tensorflow.keras.models import Model\n",
    "from tensorflow.keras.layers import Input, Dense"
   ]
  },
  {
   "cell_type": "code",
   "execution_count": 25,
   "metadata": {},
   "outputs": [
    {
     "name": "stdout",
     "output_type": "stream",
     "text": [
      "Model: \"model_5\"\n",
      "_________________________________________________________________\n",
      "Layer (type)                 Output Shape              Param #   \n",
      "=================================================================\n",
      "input_7 (InputLayer)         [(None, 123)]             0         \n",
      "_________________________________________________________________\n",
      "dense_78 (Dense)             (None, 64)                7936      \n",
      "_________________________________________________________________\n",
      "dense_79 (Dense)             (None, 32)                2080      \n",
      "_________________________________________________________________\n",
      "dense_80 (Dense)             (None, 16)                528       \n",
      "_________________________________________________________________\n",
      "dense_81 (Dense)             (None, 8)                 136       \n",
      "_________________________________________________________________\n",
      "dense_82 (Dense)             (None, 4)                 36        \n",
      "_________________________________________________________________\n",
      "dense_83 (Dense)             (None, 2)                 10        \n",
      "_________________________________________________________________\n",
      "dense_84 (Dense)             (None, 1)                 3         \n",
      "_________________________________________________________________\n",
      "dense_85 (Dense)             (None, 4)                 8         \n",
      "_________________________________________________________________\n",
      "dense_86 (Dense)             (None, 8)                 40        \n",
      "_________________________________________________________________\n",
      "dense_87 (Dense)             (None, 16)                144       \n",
      "_________________________________________________________________\n",
      "dense_88 (Dense)             (None, 32)                544       \n",
      "_________________________________________________________________\n",
      "dense_89 (Dense)             (None, 64)                2112      \n",
      "_________________________________________________________________\n",
      "dense_90 (Dense)             (None, 123)               7995      \n",
      "=================================================================\n",
      "Total params: 21,572\n",
      "Trainable params: 21,572\n",
      "Non-trainable params: 0\n",
      "_________________________________________________________________\n",
      "Epoch 1/20\n",
      "331/331 [==============================] - 9s 25ms/step - loss: 0.3243 - accuracy: 0.0646 - mse: 0.0172 - mae: 0.0895 - val_loss: 0.3095 - val_accuracy: 0.9780 - val_mse: 0.0185 - val_mae: 0.0960\n",
      "Epoch 2/20\n",
      "331/331 [==============================] - 8s 23ms/step - loss: 0.2671 - accuracy: 0.9775 - mse: 0.0183 - mae: 0.0985 - val_loss: 0.2647 - val_accuracy: 0.9780 - val_mse: 0.0194 - val_mae: 0.1036\n",
      "Epoch 3/20\n",
      "331/331 [==============================] - 10s 31ms/step - loss: 0.2644 - accuracy: 0.9775 - mse: 0.0188 - mae: 0.1010 - val_loss: 0.2639 - val_accuracy: 0.9780 - val_mse: 0.0178 - val_mae: 0.0997\n",
      "Epoch 4/20\n",
      "331/331 [==============================] - 9s 28ms/step - loss: 0.2637 - accuracy: 0.9775 - mse: 0.0188 - mae: 0.1026 - val_loss: 0.2634 - val_accuracy: 0.9780 - val_mse: 0.0188 - val_mae: 0.1022\n",
      "Epoch 5/20\n",
      "331/331 [==============================] - 8s 25ms/step - loss: 0.2635 - accuracy: 0.9775 - mse: 0.0190 - mae: 0.1029 - val_loss: 0.2634 - val_accuracy: 0.9780 - val_mse: 0.0190 - val_mae: 0.1033\n",
      "Epoch 6/20\n",
      "331/331 [==============================] - 7s 21ms/step - loss: 0.2636 - accuracy: 0.9775 - mse: 0.0186 - mae: 0.1021 - val_loss: 0.2653 - val_accuracy: 0.9780 - val_mse: 0.0187 - val_mae: 0.1034\n",
      "Epoch 7/20\n",
      "331/331 [==============================] - 7s 20ms/step - loss: 0.2644 - accuracy: 0.9775 - mse: 0.0175 - mae: 0.1002 - val_loss: 0.2635 - val_accuracy: 0.9780 - val_mse: 0.0173 - val_mae: 0.0996\n",
      "Epoch 8/20\n",
      "331/331 [==============================] - 7s 20ms/step - loss: 0.2649 - accuracy: 0.9775 - mse: 0.0188 - mae: 0.1044 - val_loss: 0.2652 - val_accuracy: 0.9780 - val_mse: 0.0188 - val_mae: 0.1071\n",
      "Epoch 9/20\n",
      "331/331 [==============================] - 7s 20ms/step - loss: 0.2638 - accuracy: 0.9775 - mse: 0.0174 - mae: 0.1020 - val_loss: 0.2633 - val_accuracy: 0.9780 - val_mse: 0.0174 - val_mae: 0.1018\n",
      "Epoch 10/20\n",
      "331/331 [==============================] - 7s 21ms/step - loss: 0.2637 - accuracy: 0.9775 - mse: 0.0174 - mae: 0.1021 - val_loss: 0.2638 - val_accuracy: 0.9780 - val_mse: 0.0178 - val_mae: 0.1045\n",
      "Epoch 11/20\n",
      "331/331 [==============================] - 7s 21ms/step - loss: 0.2636 - accuracy: 0.9775 - mse: 0.0175 - mae: 0.1034 - val_loss: 0.2633 - val_accuracy: 0.9780 - val_mse: 0.0174 - val_mae: 0.1027\n",
      "Epoch 12/20\n",
      "331/331 [==============================] - 7s 21ms/step - loss: 0.2634 - accuracy: 0.9775 - mse: 0.0172 - mae: 0.1020 - val_loss: 0.2634 - val_accuracy: 0.9780 - val_mse: 0.0173 - val_mae: 0.1024\n",
      "Epoch 13/20\n",
      "331/331 [==============================] - 7s 21ms/step - loss: 0.2640 - accuracy: 0.9775 - mse: 0.0165 - mae: 0.0997 - val_loss: 0.2633 - val_accuracy: 0.9780 - val_mse: 0.0157 - val_mae: 0.0971\n",
      "Epoch 14/20\n",
      "331/331 [==============================] - 7s 21ms/step - loss: 0.2634 - accuracy: 0.9775 - mse: 0.0156 - mae: 0.0967 - val_loss: 0.2638 - val_accuracy: 0.9780 - val_mse: 0.0151 - val_mae: 0.0955\n",
      "Epoch 15/20\n",
      "331/331 [==============================] - 7s 21ms/step - loss: 0.2634 - accuracy: 0.9775 - mse: 0.0147 - mae: 0.0935 - val_loss: 0.2632 - val_accuracy: 0.9780 - val_mse: 0.0148 - val_mae: 0.0933\n",
      "Epoch 16/20\n",
      "331/331 [==============================] - 7s 21ms/step - loss: 0.2634 - accuracy: 0.9775 - mse: 0.0145 - mae: 0.0923 - val_loss: 0.2632 - val_accuracy: 0.9780 - val_mse: 0.0143 - val_mae: 0.0914\n",
      "Epoch 17/20\n",
      "331/331 [==============================] - 7s 21ms/step - loss: 0.2639 - accuracy: 0.9775 - mse: 0.0144 - mae: 0.0911 - val_loss: 0.2633 - val_accuracy: 0.9780 - val_mse: 0.0143 - val_mae: 0.0910\n",
      "Epoch 18/20\n",
      "331/331 [==============================] - 8s 23ms/step - loss: 0.2634 - accuracy: 0.9775 - mse: 0.0140 - mae: 0.0898 - val_loss: 0.2638 - val_accuracy: 0.9780 - val_mse: 0.0142 - val_mae: 0.0910\n",
      "Epoch 19/20\n",
      "331/331 [==============================] - 7s 22ms/step - loss: 0.2634 - accuracy: 0.9775 - mse: 0.0133 - mae: 0.0878 - val_loss: 0.2632 - val_accuracy: 0.9780 - val_mse: 0.0131 - val_mae: 0.0870\n",
      "Epoch 20/20\n",
      "331/331 [==============================] - 7s 22ms/step - loss: 0.2633 - accuracy: 0.9775 - mse: 0.0129 - mae: 0.0862 - val_loss: 0.2632 - val_accuracy: 0.9780 - val_mse: 0.0127 - val_mae: 0.0856\n"
     ]
    },
    {
     "name": "stderr",
     "output_type": "stream",
     "text": [
      "WARNING:absl:Found untraced functions such as leaky_re_lu_68_layer_call_fn, leaky_re_lu_68_layer_call_and_return_conditional_losses, leaky_re_lu_69_layer_call_fn, leaky_re_lu_69_layer_call_and_return_conditional_losses, leaky_re_lu_70_layer_call_fn while saving (showing 5 of 55). These functions will not be directly callable after loading.\n"
     ]
    },
    {
     "name": "stdout",
     "output_type": "stream",
     "text": [
      "INFO:tensorflow:Assets written to: autoencoder.hd5/assets\n"
     ]
    },
    {
     "name": "stderr",
     "output_type": "stream",
     "text": [
      "INFO:tensorflow:Assets written to: autoencoder.hd5/assets\n"
     ]
    }
   ],
   "source": [
    "#build autoencoder\n",
    "input_layer=Input(shape=(123,))\n",
    "encoder=Dense(64,activation='LeakyReLU')(input_layer)   #encoder\n",
    "encoder=Dense(32,activation='LeakyReLU')(encoder)    #encoder\n",
    "encoder=Dense(16,activation='LeakyReLU')(encoder)    #encoder\n",
    "encoder=Dense(8,activation='LeakyReLU')(encoder)     #encoder\n",
    "encoder=Dense(4,activation='LeakyReLU')(encoder)     #encoder\n",
    "encoder=Dense(2,activation='LeakyReLU')(encoder)     #encoder\n",
    "encoder=Dense(1,activation='sigmoid')(encoder)     #encoder\n",
    "decoder=Dense(4,activation='LeakyReLU')(encoder)     #decoder\n",
    "decoder=Dense(8,activation='LeakyReLU')(decoder)     #decoder\n",
    "decoder=Dense(16,activation='LeakyReLU')(decoder)    #decoder\n",
    "decoder=Dense(32,activation='LeakyReLU')(decoder)    #decoder\n",
    "decoder=Dense(64,activation='LeakyReLU')(decoder)    #decoder\n",
    "decoder=Dense(123,activation='tanh')(decoder) #decoder\n",
    "autoencoder=Model(input_layer,decoder)\n",
    "autoencoder.compile(optimizer='adam',loss='binary_crossentropy',metrics=['accuracy','mse','mae'])   #compile\n",
    "autoencoder.summary()                                                                           #summary    #train\n",
    "history=autoencoder.fit(input,input,epochs=20,batch_size=121,validation_split=0.2)                                                   #train  #validation_split=0.2\n",
    "autoencoder.save('trained_models/autoencoder.hd5')                                                                 #save    #save\n",
    "\n"
   ]
  },
  {
   "cell_type": "code",
   "execution_count": 26,
   "metadata": {},
   "outputs": [
    {
     "name": "stdout",
     "output_type": "stream",
     "text": [
      "{'loss': [0.32434824109077454, 0.2671191096305847, 0.26435646414756775, 0.26370111107826233, 0.2634793519973755, 0.2636410593986511, 0.2644183039665222, 0.2648562490940094, 0.2637855112552643, 0.263741135597229, 0.2635985016822815, 0.2633903920650482, 0.26401621103286743, 0.26339420676231384, 0.263379842042923, 0.26336470246315, 0.263916939496994, 0.26339495182037354, 0.2633655071258545, 0.2633090913295746], 'accuracy': [0.06464999914169312, 0.9774749875068665, 0.9774749875068665, 0.9774749875068665, 0.9774749875068665, 0.9774749875068665, 0.9774749875068665, 0.9774749875068665, 0.9774749875068665, 0.9774749875068665, 0.9774749875068665, 0.9774749875068665, 0.9774749875068665, 0.9774749875068665, 0.9774749875068665, 0.9774749875068665, 0.9774749875068665, 0.9774749875068665, 0.9774749875068665, 0.9774749875068665], 'mse': [0.017182819545269012, 0.01831437647342682, 0.018775789067149162, 0.018815776333212852, 0.018980568274855614, 0.01859813556075096, 0.017498629167675972, 0.018784113228321075, 0.01735359989106655, 0.017401888966560364, 0.017532046884298325, 0.01718173362314701, 0.01653849333524704, 0.015575485303997993, 0.014707202091813087, 0.014538412913680077, 0.014402281492948532, 0.01396956481039524, 0.013309762813150883, 0.012888923287391663], 'mae': [0.089454784989357, 0.0985017642378807, 0.10103817284107208, 0.10256495326757431, 0.10292575508356094, 0.1021469458937645, 0.10020633041858673, 0.10439860820770264, 0.10204196721315384, 0.10205443948507309, 0.10336414724588394, 0.10200931131839752, 0.09974756836891174, 0.09669892489910126, 0.09354037046432495, 0.09228850901126862, 0.09106126427650452, 0.08983384817838669, 0.08779515326023102, 0.08621376007795334], 'val_loss': [0.3094855844974518, 0.2647395431995392, 0.2639143764972687, 0.2633664011955261, 0.26341819763183594, 0.2653142809867859, 0.263499915599823, 0.26519903540611267, 0.26332172751426697, 0.26383912563323975, 0.2632969915866852, 0.2633599638938904, 0.2632687985897064, 0.26378458738327026, 0.2632010281085968, 0.26319420337677, 0.2632722556591034, 0.2638438045978546, 0.26317405700683594, 0.26317307353019714], 'val_accuracy': [0.9779999852180481, 0.9779999852180481, 0.9779999852180481, 0.9779999852180481, 0.9779999852180481, 0.9779999852180481, 0.9779999852180481, 0.9779999852180481, 0.9779999852180481, 0.9779999852180481, 0.9779999852180481, 0.9779999852180481, 0.9779999852180481, 0.9779999852180481, 0.9779999852180481, 0.9779999852180481, 0.9779999852180481, 0.9779999852180481, 0.9779999852180481, 0.9779999852180481], 'val_mse': [0.018498139455914497, 0.01943761482834816, 0.017802612856030464, 0.018809691071510315, 0.019024034962058067, 0.018722260370850563, 0.017349107190966606, 0.01879541203379631, 0.017384709790349007, 0.017793403938412666, 0.01736598275601864, 0.017271941527724266, 0.015675194561481476, 0.015126015059649944, 0.01481775101274252, 0.01434243656694889, 0.01431247591972351, 0.014195633120834827, 0.013089456595480442, 0.012712628580629826], 'val_mae': [0.09596160054206848, 0.10358531773090363, 0.09974680095911026, 0.10224229097366333, 0.10333307832479477, 0.10341872274875641, 0.09956430643796921, 0.10708113759756088, 0.10178826749324799, 0.10446096211671829, 0.10274422913789749, 0.1024240255355835, 0.09708583354949951, 0.0955183133482933, 0.09334626793861389, 0.09139938652515411, 0.09098689258098602, 0.09097566455602646, 0.08699770271778107, 0.08563274890184402]}\n"
     ]
    }
   ],
   "source": [
    "print(history.history)"
   ]
  },
  {
   "cell_type": "code",
   "execution_count": 27,
   "metadata": {},
   "outputs": [
    {
     "data": {
      "text/plain": [
       "[<matplotlib.lines.Line2D at 0x7f2c4b0934f0>]"
      ]
     },
     "execution_count": 27,
     "metadata": {},
     "output_type": "execute_result"
    },
    {
     "data": {
      "image/png": "[encoded data removed]",
      "text/plain": [
       "<Figure size 432x288 with 1 Axes>"
      ]
     },
     "metadata": {
      "needs_background": "light"
     },
     "output_type": "display_data"
    }
   ],
   "source": [
    "plt.plot(history.history['loss'])"
   ]
  },
  {
   "cell_type": "code",
   "execution_count": 28,
   "metadata": {},
   "outputs": [
    {
     "data": {
      "text/plain": [
       "[<matplotlib.lines.Line2D at 0x7f2c4b01d580>]"
      ]
     },
     "execution_count": 28,
     "metadata": {},
     "output_type": "execute_result"
    },
    {
     "data": {
      "image/png": "[encoded data removed]",
      "text/plain": [
       "<Figure size 432x288 with 1 Axes>"
      ]
     },
     "metadata": {
      "needs_background": "light"
     },
     "output_type": "display_data"
    }
   ],
   "source": [
    "plt.plot(history.history['accuracy'])"
   ]
  },
  {
   "cell_type": "code",
   "execution_count": 29,
   "metadata": {},
   "outputs": [
    {
     "data": {
      "text/plain": [
       "[<matplotlib.lines.Line2D at 0x7f2c4b1b4640>]"
      ]
     },
     "execution_count": 29,
     "metadata": {},
     "output_type": "execute_result"
    },
    {
     "data": {
      "image/png": "[encoded data removed]",
      "text/plain": [
       "<Figure size 432x288 with 1 Axes>"
      ]
     },
     "metadata": {
      "needs_background": "light"
     },
     "output_type": "display_data"
    }
   ],
   "source": [
    "plt.plot(history.history['mse'])"
   ]
  },
  {
   "cell_type": "code",
   "execution_count": 30,
   "metadata": {},
   "outputs": [
    {
     "data": {
      "text/plain": [
       "[<matplotlib.lines.Line2D at 0x7f2c486578e0>]"
      ]
     },
     "execution_count": 30,
     "metadata": {},
     "output_type": "execute_result"
    },
    {
     "data": {
      "image/png": "[encoded data removed]",
      "text/plain": [
       "<Figure size 432x288 with 1 Axes>"
      ]
     },
     "metadata": {
      "needs_background": "light"
     },
     "output_type": "display_data"
    }
   ],
   "source": [
    "plt.plot(history.history['mae'])"
   ]
  },
  {
   "cell_type": "code",
   "execution_count": null,
   "metadata": {},
   "outputs": [],
   "source": []
  }
 ],
 "metadata": {
  "kernelspec": {
   "display_name": "Python 3.9.12 ('dl')",
   "language": "python",
   "name": "python3"
  },
  "language_info": {
   "codemirror_mode": {
    "name": "ipython",
    "version": 3
   },
   "file_extension": ".py",
   "mimetype": "text/x-python",
   "name": "python",
   "nbconvert_exporter": "python",
   "pygments_lexer": "ipython3",
   "version": "3.9.12"
  },
  "orig_nbformat": 4,
  "vscode": {
   "interpreter": {
    "hash": "e792f99ca924ac5da9af932bc557d69820b5853464ee68b1079b8b9e6589c389"
   }
  }
 },
 "nbformat": 4,
 "nbformat_minor": 2
}
