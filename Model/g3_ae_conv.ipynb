{
 "cells": [
  {
   "cell_type": "code",
   "execution_count": 1,
   "metadata": {},
   "outputs": [
    {
     "name": "stdout",
     "output_type": "stream",
     "text": [
      "/home/n3/miniconda3/envs/dl/bin\n"
     ]
    },
    {
     "name": "stderr",
     "output_type": "stream",
     "text": [
      "2022-06-03 23:48:56.183088: I tensorflow/stream_executor/platform/default/dso_loader.cc:53] Successfully opened dynamic library libcudart.so.11.0\n"
     ]
    }
   ],
   "source": [
    "import sys, os\n",
    "print(os.path.dirname(sys.executable))\n",
    "\n",
    "import pickle\n",
    "import time\n",
    "import os\n",
    "from sys import platform\n",
    "\n",
    "import numpy as np\n",
    "import matplotlib.pyplot as plt\n",
    "from geant3_parser import Geant3DataFile\n",
    "from geant3_parser import build_true_answers_train_set\n",
    "\n",
    "from event_display import print_tabled_event\n",
    "\n",
    "from keras.models import Sequential\n",
    "from keras.layers import Dense, MaxPooling2D, Conv2D, Flatten, UpSampling2D, Cropping2D, Input, Conv2DTranspose\n",
    "\n"
   ]
  },
  {
   "cell_type": "code",
   "execution_count": 2,
   "metadata": {},
   "outputs": [
    {
     "name": "stdout",
     "output_type": "stream",
     "text": [
      "Time open 2.114060163497925\n",
      "Time split 1.0749866962432861\n",
      "Start preparing events...\n",
      "Inputs shape original = (200000, 11, 11)\n",
      "Total events prepare time = 31.75800132751465\n",
      "max hit value = 0.7609799248146092\n"
     ]
    }
   ],
   "source": [
    "file_name = os.path.join('data', 'shower_geant3_new.dat')\n",
    "\n",
    "def norm_func(e):\n",
    "    return np.float64(np.log(e) / 11)\n",
    "\n",
    "\n",
    "# file_name = 'sample_data.txt'\n",
    "data_file = Geant3DataFile(file_name, skip_lines=3)\n",
    "\n",
    "# split into input (X) and output (y) variables\n",
    "parse_start = time.time()\n",
    "print(f\"Start preparing events...\")\n",
    "\n",
    "inputs, answers, values = build_true_answers_train_set(data_file, 200000, norm_func=norm_func, rnd_shift=((-2,2), (-2,2)) )\n",
    "parse_end = time.time()\n",
    "print(f\"Inputs shape original = {np.shape(inputs)}\")\n",
    "print(f\"Total events prepare time = {parse_end - parse_start}\")\n",
    "print(f\"max hit value = {np.max(inputs)}\")"
   ]
  },
  {
   "cell_type": "code",
   "execution_count": 3,
   "metadata": {},
   "outputs": [
    {
     "name": "stdout",
     "output_type": "stream",
     "text": [
      "Inputs shape new = (200000, 11, 11, 1)\n",
      "Answers shape new = (200000, 121)\n",
      "\n",
      "                                COLUMNS                                \n",
      "ROW   0     1     2     3     4     5     6     7     8     9     10   \n",
      "-----------------------------------------------------------------------\n",
      "0   | 0.0   0.0   0.0   0.0   0.0   0.0   0.0   0.0   0.0   0.0   0.0  \n",
      "1   | 0.0   0.0   0.0   0.0   0.0   0.0   0.0   0.0   0.0   0.0   0.0  \n",
      "2   | 0.0   0.0   0.0   0.0   0.0   0.0   0.0   0.0   0.0   0.0   0.0  \n",
      "3   | 0.0   0.0   0.0   0.0   0.0   0.0   0.0   0.0   0.0   0.0   0.0  \n",
      "4   | 0.0   0.0   0.0   0.0   0.0   0.0   0.0   0.69  0.0   0.0   0.0  \n",
      "5   | 0.0   0.0   0.0   0.69  0.0   0.0   1.4   0.0   0.0   0.0   0.0  \n",
      "6   | 0.0   0.0   0.0   1.8   3.3   2.9   3.5   2.2   0.0   0.0   0.0  \n",
      "7   | 0.0   0.0   2.1   1.8   3.6   7.4   5.0   2.2   1.6   0.0   0.0  \n",
      "8   | 0.0   0.0   0.0   1.6   3.6   5.0   4.0   1.4   0.0   0.0   0.0  \n",
      "9   | 0.0   0.0   0.69  1.8   2.2   3.0   2.5   1.4   0.0   0.0   0.0  \n",
      "10  | 0.0   0.0   0.0   0.0   1.8   1.8   0.69  0.0   0.0   0.0   0.0  \n",
      "-----------------------------------------------------------------------\n",
      "[0.         0.         0.         0.         0.         0.\n",
      " 0.         0.         0.         0.         0.         0.\n",
      " 0.         0.         0.         0.         0.         0.\n",
      " 0.         0.         0.         0.         0.         0.\n",
      " 0.         0.         0.         0.         0.         0.\n",
      " 0.         0.         0.         0.         0.         0.\n",
      " 0.         0.         0.         0.         0.         0.\n",
      " 0.         0.         0.         0.         0.         0.\n",
      " 0.         0.         0.         0.         0.         0.\n",
      " 0.         0.         0.         0.         0.         0.\n",
      " 0.         0.         0.         0.         0.         0.\n",
      " 0.         0.         0.         0.         0.         0.\n",
      " 0.         0.         0.         0.         0.         0.\n",
      " 0.         0.         0.         0.         0.70230273 0.\n",
      " 0.         0.         0.         0.         0.         0.\n",
      " 0.         0.         0.         0.         0.         0.\n",
      " 0.         0.         0.         0.         0.         0.\n",
      " 0.         0.         0.         0.         0.         0.\n",
      " 0.         0.         0.         0.         0.         0.\n",
      " 0.         0.         0.         0.         0.         0.\n",
      " 0.        ]\n"
     ]
    }
   ],
   "source": [
    "inputs = np.reshape(inputs, (len(inputs), 11, 11, 1))  # -1 => autodetermine\n",
    "answers = np.reshape(answers, (len(answers), 121))  # -1 => autodetermine\n",
    "# # Pad with 1 row and column of zeroes, so it divides by 2\n",
    "#inputs = np.pad(inputs, ((0,0), (0,1), (0,1), (0,0)), mode='constant', constant_values=0)\n",
    "#answers = np.pad(answers, ((0,0), (0,1), (0,1), (0,0)), mode='constant', constant_values=0)\n",
    "print(f\"Inputs shape new = {np.shape(inputs)}\")\n",
    "print(f\"Answers shape new = {np.shape(answers)}\")\n",
    "\n",
    "print_tabled_event(inputs[0])\n",
    "print(answers[0])"
   ]
  },
  {
   "cell_type": "code",
   "execution_count": 4,
   "metadata": {},
   "outputs": [
    {
     "name": "stderr",
     "output_type": "stream",
     "text": [
      "2022-06-03 23:49:39.987309: I tensorflow/stream_executor/platform/default/dso_loader.cc:53] Successfully opened dynamic library libcuda.so.1\n",
      "2022-06-03 23:49:40.025216: I tensorflow/stream_executor/cuda/cuda_gpu_executor.cc:923] could not open file to read NUMA node: /sys/bus/pci/devices/0000:01:00.0/numa_node\n",
      "Your kernel may have been built without NUMA support.\n",
      "2022-06-03 23:49:40.025468: I tensorflow/core/common_runtime/gpu/gpu_device.cc:1733] Found device 0 with properties: \n",
      "pciBusID: 0000:01:00.0 name: Quadro P1000 computeCapability: 6.1\n",
      "coreClock: 1.5185GHz coreCount: 4 deviceMemorySize: 4.00GiB deviceMemoryBandwidth: 89.53GiB/s\n",
      "2022-06-03 23:49:40.025601: I tensorflow/stream_executor/platform/default/dso_loader.cc:53] Successfully opened dynamic library libcudart.so.11.0\n",
      "2022-06-03 23:49:40.032979: I tensorflow/stream_executor/platform/default/dso_loader.cc:53] Successfully opened dynamic library libcublas.so.11\n",
      "2022-06-03 23:49:40.033119: I tensorflow/stream_executor/platform/default/dso_loader.cc:53] Successfully opened dynamic library libcublasLt.so.11\n",
      "2022-06-03 23:49:40.035917: I tensorflow/stream_executor/platform/default/dso_loader.cc:53] Successfully opened dynamic library libcufft.so.10\n",
      "2022-06-03 23:49:40.036380: I tensorflow/stream_executor/platform/default/dso_loader.cc:53] Successfully opened dynamic library libcurand.so.10\n",
      "2022-06-03 23:49:40.038665: I tensorflow/stream_executor/platform/default/dso_loader.cc:53] Successfully opened dynamic library libcusolver.so.11\n",
      "2022-06-03 23:49:40.040497: I tensorflow/stream_executor/platform/default/dso_loader.cc:53] Successfully opened dynamic library libcusparse.so.11\n",
      "2022-06-03 23:49:40.040889: I tensorflow/stream_executor/platform/default/dso_loader.cc:53] Successfully opened dynamic library libcudnn.so.8\n",
      "2022-06-03 23:49:40.043062: I tensorflow/stream_executor/cuda/cuda_gpu_executor.cc:923] could not open file to read NUMA node: /sys/bus/pci/devices/0000:01:00.0/numa_node\n",
      "Your kernel may have been built without NUMA support.\n",
      "2022-06-03 23:49:40.044926: I tensorflow/stream_executor/cuda/cuda_gpu_executor.cc:923] could not open file to read NUMA node: /sys/bus/pci/devices/0000:01:00.0/numa_node\n",
      "Your kernel may have been built without NUMA support.\n",
      "2022-06-03 23:49:40.044976: I tensorflow/core/common_runtime/gpu/gpu_device.cc:1871] Adding visible gpu devices: 0\n",
      "2022-06-03 23:49:40.045849: I tensorflow/core/platform/cpu_feature_guard.cc:142] This TensorFlow binary is optimized with oneAPI Deep Neural Network Library (oneDNN) to use the following CPU instructions in performance-critical operations:  AVX2 FMA\n",
      "To enable them in other operations, rebuild TensorFlow with the appropriate compiler flags.\n",
      "2022-06-03 23:49:40.050981: I tensorflow/stream_executor/cuda/cuda_gpu_executor.cc:923] could not open file to read NUMA node: /sys/bus/pci/devices/0000:01:00.0/numa_node\n",
      "Your kernel may have been built without NUMA support.\n",
      "2022-06-03 23:49:40.051036: I tensorflow/core/common_runtime/gpu/gpu_device.cc:1733] Found device 0 with properties: \n",
      "pciBusID: 0000:01:00.0 name: Quadro P1000 computeCapability: 6.1\n",
      "coreClock: 1.5185GHz coreCount: 4 deviceMemorySize: 4.00GiB deviceMemoryBandwidth: 89.53GiB/s\n",
      "2022-06-03 23:49:40.052885: I tensorflow/stream_executor/cuda/cuda_gpu_executor.cc:923] could not open file to read NUMA node: /sys/bus/pci/devices/0000:01:00.0/numa_node\n",
      "Your kernel may have been built without NUMA support.\n",
      "2022-06-03 23:49:40.054785: I tensorflow/stream_executor/cuda/cuda_gpu_executor.cc:923] could not open file to read NUMA node: /sys/bus/pci/devices/0000:01:00.0/numa_node\n",
      "Your kernel may have been built without NUMA support.\n",
      "2022-06-03 23:49:40.054830: I tensorflow/core/common_runtime/gpu/gpu_device.cc:1871] Adding visible gpu devices: 0\n",
      "2022-06-03 23:49:40.054927: I tensorflow/stream_executor/platform/default/dso_loader.cc:53] Successfully opened dynamic library libcudart.so.11.0\n",
      "2022-06-03 23:49:41.151571: I tensorflow/core/common_runtime/gpu/gpu_device.cc:1258] Device interconnect StreamExecutor with strength 1 edge matrix:\n",
      "2022-06-03 23:49:41.151605: I tensorflow/core/common_runtime/gpu/gpu_device.cc:1264]      0 \n",
      "2022-06-03 23:49:41.151643: I tensorflow/core/common_runtime/gpu/gpu_device.cc:1277] 0:   N \n",
      "2022-06-03 23:49:41.153802: I tensorflow/stream_executor/cuda/cuda_gpu_executor.cc:923] could not open file to read NUMA node: /sys/bus/pci/devices/0000:01:00.0/numa_node\n",
      "Your kernel may have been built without NUMA support.\n",
      "2022-06-03 23:49:41.155324: I tensorflow/stream_executor/cuda/cuda_gpu_executor.cc:923] could not open file to read NUMA node: /sys/bus/pci/devices/0000:01:00.0/numa_node\n",
      "Your kernel may have been built without NUMA support.\n",
      "2022-06-03 23:49:41.155349: I tensorflow/core/common_runtime/gpu/gpu_device.cc:1501] Could not identify NUMA node of platform GPU id 0, defaulting to 0.  Your kernel may not have been built with NUMA support.\n",
      "2022-06-03 23:49:41.156924: I tensorflow/stream_executor/cuda/cuda_gpu_executor.cc:923] could not open file to read NUMA node: /sys/bus/pci/devices/0000:01:00.0/numa_node\n",
      "Your kernel may have been built without NUMA support.\n",
      "2022-06-03 23:49:41.157040: I tensorflow/core/common_runtime/gpu/gpu_device.cc:1418] Created TensorFlow device (/job:localhost/replica:0/task:0/device:GPU:0 with 2763 MB memory) -> physical GPU (device: 0, name: Quadro P1000, pci bus id: 0000:01:00.0, compute capability: 6.1)\n"
     ]
    },
    {
     "name": "stdout",
     "output_type": "stream",
     "text": [
      "WARNING:tensorflow:Please add `keras.layers.InputLayer` instead of `keras.Input` to Sequential model. `keras.Input` is intended to be used by Functional model.\n",
      "Model: \"sequential\"\n",
      "_________________________________________________________________\n",
      "Layer (type)                 Output Shape              Param #   \n",
      "=================================================================\n",
      "conv2d (Conv2D)              (None, 10, 10, 32)        160       \n",
      "_________________________________________________________________\n",
      "conv2d_1 (Conv2D)            (None, 9, 9, 16)          2064      \n",
      "_________________________________________________________________\n",
      "conv2d_2 (Conv2D)            (None, 8, 8, 6)           390       \n",
      "_________________________________________________________________\n",
      "flatten (Flatten)            (None, 384)               0         \n",
      "_________________________________________________________________\n",
      "dense (Dense)                (None, 121)               46585     \n",
      "=================================================================\n",
      "Total params: 49,199\n",
      "Trainable params: 49,199\n",
      "Non-trainable params: 0\n",
      "_________________________________________________________________\n"
     ]
    }
   ],
   "source": [
    "model = Sequential()\n",
    "model.add(Input(shape=(11, 11, 1)))\n",
    "model.add(Conv2D(32, kernel_size=(2, 2), activation='relu', kernel_initializer='he_normal'))\n",
    "model.add(Conv2D(16, kernel_size=(2, 2), activation='relu', kernel_initializer='he_normal'))\n",
    "model.add(Conv2D(6, kernel_size=(2, 2), activation='relu', kernel_initializer='he_normal'))\n",
    "model.add(Flatten())\n",
    "model.add(Dense(121, activation='relu'))\n",
    "#model.add(Dense(121, activation='relu'))\n",
    "#model.add(Conv2D(1, kernel_size=(2, 2), activation='sigmoid', padding='same'))\n",
    "model.summary()"
   ]
  },
  {
   "cell_type": "code",
   "execution_count": 5,
   "metadata": {},
   "outputs": [
    {
     "name": "stderr",
     "output_type": "stream",
     "text": [
      "2022-06-03 23:56:59.591353: I tensorflow/compiler/mlir/mlir_graph_optimization_pass.cc:176] None of the MLIR Optimization Passes are enabled (registered 2)\n",
      "2022-06-03 23:56:59.593941: I tensorflow/core/platform/profile_utils/cpu_utils.cc:114] CPU Frequency: 2904005000 Hz\n"
     ]
    },
    {
     "name": "stdout",
     "output_type": "stream",
     "text": [
      "Epoch 1/25\n"
     ]
    },
    {
     "name": "stderr",
     "output_type": "stream",
     "text": [
      "2022-06-03 23:57:16.017523: I tensorflow/stream_executor/platform/default/dso_loader.cc:53] Successfully opened dynamic library libcudnn.so.8\n",
      "2022-06-03 23:57:18.180125: I tensorflow/stream_executor/cuda/cuda_dnn.cc:359] Loaded cuDNN version 8101\n",
      "2022-06-03 23:57:21.983429: I tensorflow/stream_executor/platform/default/dso_loader.cc:53] Successfully opened dynamic library libcublas.so.11\n",
      "2022-06-03 23:57:22.611360: I tensorflow/stream_executor/platform/default/dso_loader.cc:53] Successfully opened dynamic library libcublasLt.so.11\n"
     ]
    },
    {
     "name": "stdout",
     "output_type": "stream",
     "text": [
      "5000/5000 [==============================] - 75s 10ms/step - loss: 0.0024 - acc: 0.5378 - mse: 0.0024 - mae: 0.0046 - val_loss: 0.0017 - val_acc: 0.5985 - val_mse: 0.0017 - val_mae: 0.0027\n",
      "Epoch 2/25\n",
      "5000/5000 [==============================] - 58s 12ms/step - loss: 0.0017 - acc: 0.5963 - mse: 0.0017 - mae: 0.0027 - val_loss: 0.0017 - val_acc: 0.5985 - val_mse: 0.0017 - val_mae: 0.0027\n",
      "Epoch 3/25\n",
      "5000/5000 [==============================] - 56s 11ms/step - loss: 0.0017 - acc: 0.5985 - mse: 0.0017 - mae: 0.0026 - val_loss: 0.0017 - val_acc: 0.5982 - val_mse: 0.0017 - val_mae: 0.0026\n",
      "Epoch 4/25\n",
      "5000/5000 [==============================] - 82s 16ms/step - loss: 0.0017 - acc: 0.5968 - mse: 0.0017 - mae: 0.0026 - val_loss: 0.0017 - val_acc: 0.5989 - val_mse: 0.0017 - val_mae: 0.0026\n",
      "Epoch 5/25\n",
      "5000/5000 [==============================] - 62s 12ms/step - loss: 0.0017 - acc: 0.5977 - mse: 0.0017 - mae: 0.0026 - val_loss: 0.0017 - val_acc: 0.5989 - val_mse: 0.0017 - val_mae: 0.0026\n",
      "Epoch 6/25\n",
      "5000/5000 [==============================] - 71s 14ms/step - loss: 0.0017 - acc: 0.5983 - mse: 0.0017 - mae: 0.0026 - val_loss: 0.0017 - val_acc: 0.5990 - val_mse: 0.0017 - val_mae: 0.0025\n",
      "Epoch 7/25\n",
      "5000/5000 [==============================] - 90s 18ms/step - loss: 0.0017 - acc: 0.5984 - mse: 0.0017 - mae: 0.0025 - val_loss: 0.0017 - val_acc: 0.5980 - val_mse: 0.0017 - val_mae: 0.0025\n",
      "Epoch 8/25\n",
      "5000/5000 [==============================] - 87s 17ms/step - loss: 0.0017 - acc: 0.5965 - mse: 0.0017 - mae: 0.0026 - val_loss: 0.0017 - val_acc: 0.5991 - val_mse: 0.0017 - val_mae: 0.0025\n",
      "Epoch 9/25\n",
      "5000/5000 [==============================] - 93s 19ms/step - loss: 0.0017 - acc: 0.5972 - mse: 0.0017 - mae: 0.0025 - val_loss: 0.0017 - val_acc: 0.5993 - val_mse: 0.0017 - val_mae: 0.0025\n",
      "Epoch 10/25\n",
      "5000/5000 [==============================] - 86s 17ms/step - loss: 0.0017 - acc: 0.5958 - mse: 0.0017 - mae: 0.0025 - val_loss: 0.0017 - val_acc: 0.5992 - val_mse: 0.0017 - val_mae: 0.0025\n",
      "Epoch 11/25\n",
      "5000/5000 [==============================] - 89s 18ms/step - loss: 0.0017 - acc: 0.5963 - mse: 0.0017 - mae: 0.0025 - val_loss: 0.0017 - val_acc: 0.5991 - val_mse: 0.0017 - val_mae: 0.0025\n",
      "Epoch 12/25\n",
      "5000/5000 [==============================] - 97s 19ms/step - loss: 0.0017 - acc: 0.5984 - mse: 0.0017 - mae: 0.0025 - val_loss: 0.0017 - val_acc: 0.5993 - val_mse: 0.0017 - val_mae: 0.0025\n",
      "Epoch 13/25\n",
      "5000/5000 [==============================] - 61s 12ms/step - loss: 0.0017 - acc: 0.5988 - mse: 0.0017 - mae: 0.0025 - val_loss: 0.0017 - val_acc: 0.5993 - val_mse: 0.0017 - val_mae: 0.0025\n",
      "Epoch 14/25\n",
      "5000/5000 [==============================] - 65s 13ms/step - loss: 0.0017 - acc: 0.5972 - mse: 0.0017 - mae: 0.0025 - val_loss: 0.0017 - val_acc: 0.5990 - val_mse: 0.0017 - val_mae: 0.0025\n",
      "Epoch 15/25\n",
      "5000/5000 [==============================] - 62s 12ms/step - loss: 0.0017 - acc: 0.5974 - mse: 0.0017 - mae: 0.0025 - val_loss: 0.0017 - val_acc: 0.5990 - val_mse: 0.0017 - val_mae: 0.0025\n",
      "Epoch 16/25\n",
      "5000/5000 [==============================] - 77s 15ms/step - loss: 0.0017 - acc: 0.5963 - mse: 0.0017 - mae: 0.0025 - val_loss: 0.0017 - val_acc: 0.5990 - val_mse: 0.0017 - val_mae: 0.0025\n",
      "Epoch 17/25\n",
      "5000/5000 [==============================] - 60s 12ms/step - loss: 0.0017 - acc: 0.5988 - mse: 0.0017 - mae: 0.0025 - val_loss: 0.0017 - val_acc: 0.5989 - val_mse: 0.0017 - val_mae: 0.0025\n",
      "Epoch 18/25\n",
      "5000/5000 [==============================] - 62s 12ms/step - loss: 0.0017 - acc: 0.5981 - mse: 0.0017 - mae: 0.0025 - val_loss: 0.0017 - val_acc: 0.5990 - val_mse: 0.0017 - val_mae: 0.0025\n",
      "Epoch 19/25\n",
      "5000/5000 [==============================] - 71s 14ms/step - loss: 0.0017 - acc: 0.5998 - mse: 0.0017 - mae: 0.0025 - val_loss: 0.0017 - val_acc: 0.5989 - val_mse: 0.0017 - val_mae: 0.0025\n",
      "Epoch 20/25\n",
      "5000/5000 [==============================] - 125s 25ms/step - loss: 0.0017 - acc: 0.6004 - mse: 0.0017 - mae: 0.0025 - val_loss: 0.0017 - val_acc: 0.5994 - val_mse: 0.0017 - val_mae: 0.0025\n",
      "Epoch 21/25\n",
      "5000/5000 [==============================] - 93s 19ms/step - loss: 0.0017 - acc: 0.5994 - mse: 0.0017 - mae: 0.0025 - val_loss: 0.0017 - val_acc: 0.5989 - val_mse: 0.0017 - val_mae: 0.0025\n",
      "Epoch 22/25\n",
      "5000/5000 [==============================] - 77s 15ms/step - loss: 0.0017 - acc: 0.5979 - mse: 0.0017 - mae: 0.0025 - val_loss: 0.0017 - val_acc: 0.5992 - val_mse: 0.0017 - val_mae: 0.0025\n",
      "Epoch 23/25\n",
      "5000/5000 [==============================] - 69s 14ms/step - loss: 0.0017 - acc: 0.5993 - mse: 0.0017 - mae: 0.0025 - val_loss: 0.0017 - val_acc: 0.5991 - val_mse: 0.0017 - val_mae: 0.0025\n",
      "Epoch 24/25\n",
      "5000/5000 [==============================] - 66s 13ms/step - loss: 0.0017 - acc: 0.5993 - mse: 0.0017 - mae: 0.0025 - val_loss: 0.0017 - val_acc: 0.5993 - val_mse: 0.0017 - val_mae: 0.0025\n",
      "Epoch 25/25\n",
      "5000/5000 [==============================] - 72s 14ms/step - loss: 0.0017 - acc: 0.5962 - mse: 0.0017 - mae: 0.0025 - val_loss: 0.0017 - val_acc: 0.5986 - val_mse: 0.0017 - val_mae: 0.0025\n"
     ]
    },
    {
     "name": "stderr",
     "output_type": "stream",
     "text": [
      "2022-06-04 00:28:45.645258: W tensorflow/python/util/util.cc:348] Sets are not currently considered sequences, but this may change in the future, so consider avoiding using them.\n"
     ]
    },
    {
     "name": "stdout",
     "output_type": "stream",
     "text": [
      "INFO:tensorflow:Assets written to: trained_models/g3_conv.hd5/assets\n"
     ]
    }
   ],
   "source": [
    "#model.compile(optimizer='adam', loss='binary_crossentropy', metrics=['acc', 'mse', 'mae'])\n",
    "# output layer\n",
    "model.compile(optimizer='adam', loss='mean_squared_error', metrics=['acc', 'mse', 'mae'])\n",
    "#model.compile(optimizer= 'adam', loss = 'binary_crossentropy')\n",
    "history = model.fit(inputs, answers, epochs=25, batch_size=32, validation_split=0.2)\n",
    "\n",
    "\n",
    "# compile the keras model\n",
    "\n",
    "# model.compile(loss='binary_crossentropy', optimizer='nadam', metrics=['acc', 'mse', 'mae'])\n",
    "\n",
    "# fit the keras model on the dataset\n",
    "#history = model.fit(inputs, inputs, validation_split=0.05, epochs=20, batch_size=32, verbose=1)\n",
    "\n",
    "# Save everything\n",
    "name = \"g3_conv\"\n",
    "os.path.join('trained_models', 'g3_conv.hd5')\n",
    "# Saving history\n",
    "with open(os.path.join('trained_models',name + \"-history.pickle\"), 'wb') as file_pi:\n",
    "    pickle.dump(history.history, file_pi)\n",
    "\n",
    "# Saving the model\n",
    "model.save(os.path.join('trained_models', name + \".hd5\"))"
   ]
  },
  {
   "cell_type": "code",
   "execution_count": 6,
   "metadata": {},
   "outputs": [
    {
     "data": {
      "text/plain": [
       "[<matplotlib.lines.Line2D at 0x7fb85806e2e0>]"
      ]
     },
     "execution_count": 6,
     "metadata": {},
     "output_type": "execute_result"
    },
    {
     "data": {
      "image/png": "[encoded data removed]",
      "text/plain": [
       "<Figure size 432x288 with 1 Axes>"
      ]
     },
     "metadata": {
      "needs_background": "light"
     },
     "output_type": "display_data"
    }
   ],
   "source": [
    "plt.plot(history.history['loss'])\n",
    "    "
   ]
  },
  {
   "cell_type": "code",
   "execution_count": 7,
   "metadata": {},
   "outputs": [
    {
     "data": {
      "text/plain": [
       "[<matplotlib.lines.Line2D at 0x7fb831ccb370>]"
      ]
     },
     "execution_count": 7,
     "metadata": {},
     "output_type": "execute_result"
    },
    {
     "data": {
      "image/png": "[encoded data removed]",
      "text/plain": [
       "<Figure size 432x288 with 1 Axes>"
      ]
     },
     "metadata": {
      "needs_background": "light"
     },
     "output_type": "display_data"
    }
   ],
   "source": [
    "plt.plot(history.history['acc'])"
   ]
  },
  {
   "cell_type": "code",
   "execution_count": 8,
   "metadata": {},
   "outputs": [
    {
     "data": {
      "text/plain": [
       "[<matplotlib.lines.Line2D at 0x7fb83218d3a0>]"
      ]
     },
     "execution_count": 8,
     "metadata": {},
     "output_type": "execute_result"
    },
    {
     "data": {
      "image/png": "[encoded data removed]",
      "text/plain": [
       "<Figure size 432x288 with 1 Axes>"
      ]
     },
     "metadata": {
      "needs_background": "light"
     },
     "output_type": "display_data"
    }
   ],
   "source": [
    "plt.plot(history.history['mse'])"
   ]
  },
  {
   "cell_type": "code",
   "execution_count": 9,
   "metadata": {},
   "outputs": [
    {
     "data": {
      "text/plain": [
       "[<matplotlib.lines.Line2D at 0x7fb8581bf220>]"
      ]
     },
     "execution_count": 9,
     "metadata": {},
     "output_type": "execute_result"
    },
    {
     "data": {
      "image/png": "[encoded data removed]",
      "text/plain": [
       "<Figure size 432x288 with 1 Axes>"
      ]
     },
     "metadata": {
      "needs_background": "light"
     },
     "output_type": "display_data"
    }
   ],
   "source": [
    "plt.plot(history.history['mae'])"
   ]
  },
  {
   "cell_type": "code",
   "execution_count": null,
   "metadata": {},
   "outputs": [],
   "source": []
  }
 ],
 "metadata": {
  "interpreter": {
   "hash": "e792f99ca924ac5da9af932bc557d69820b5853464ee68b1079b8b9e6589c389"
  },
  "kernelspec": {
   "display_name": "Python 3.9.12 ('dl')",
   "language": "python",
   "name": "python3"
  },
  "language_info": {
   "codemirror_mode": {
    "name": "ipython",
    "version": 3
   },
   "file_extension": ".py",
   "mimetype": "text/x-python",
   "name": "python",
   "nbconvert_exporter": "python",
   "pygments_lexer": "ipython3",
   "version": "3.9.12"
  },
  "orig_nbformat": 4
 },
 "nbformat": 4,
 "nbformat_minor": 2
}
